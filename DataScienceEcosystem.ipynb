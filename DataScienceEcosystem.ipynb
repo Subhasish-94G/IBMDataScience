{
 "cells": [
  {
   "cell_type": "markdown",
   "id": "110c205e-261f-4a67-a7fe-7d80725c3d6c",
   "metadata": {
    "tags": []
   },
   "source": [
    "# Data Science Tools and Ecosystem"
   ]
  },
  {
   "cell_type": "markdown",
   "id": "068013d6-3f29-432d-8991-bec550484f6c",
   "metadata": {},
   "source": [
    "#In this notebook, Data Science Tools and Ecosystem are summarized."
   ]
  },
  {
   "cell_type": "markdown",
   "id": "0de4e9cf-d651-450c-9c00-f181c9854fb2",
   "metadata": {},
   "source": [
    "# **Objectives:**\n",
    "- Popular Languages for Data scientists\n",
    "- Common Libraries used by Data scientists\n",
    "- Data Science tools\n",
    "- Arithmetic expression using python\n"
   ]
  },
  {
   "cell_type": "markdown",
   "id": "fb95ab61-3c19-4783-9700-2e2cf411575d",
   "metadata": {},
   "source": [
    "#Some of the popular languages that Data Scientists use are:\n",
    "1. Python\n",
    "2. R\n",
    "3. Scala\n",
    "4. SAS\n"
   ]
  },
  {
   "cell_type": "markdown",
   "id": "34cfe550-94ac-44b6-82a7-8b427ad182a8",
   "metadata": {},
   "source": [
    "#Some of the commonly used libraries used by Data Scientists include:\n",
    "1. Pandas\n",
    "2. Numpy\n",
    "3. Keras\n",
    "4. Scikit-learn\n"
   ]
  },
  {
   "cell_type": "markdown",
   "id": "ba65f87b-1c95-409f-b993-322588782610",
   "metadata": {
    "tags": []
   },
   "source": [
    "|Data Science Tools|\n",
    "|------------------|\n",
    "|JupyterLab|\n",
    "|Anaconda|\n",
    "|VisualStudio Code (VS Code)|"
   ]
  },
  {
   "cell_type": "markdown",
   "id": "7d429db7-383f-4d91-8ecd-f6217699ae75",
   "metadata": {},
   "source": [
    "### Below are a few examples of evaluating arithmetic expressions in Python"
   ]
  },
  {
   "cell_type": "code",
   "execution_count": 3,
   "id": "b52f2b9d-b23d-463a-825d-519017fe353c",
   "metadata": {
    "tags": []
   },
   "outputs": [
    {
     "data": {
      "text/plain": [
       "17"
      ]
     },
     "execution_count": 3,
     "metadata": {},
     "output_type": "execute_result"
    }
   ],
   "source": [
    "#This is a simple arithmetic expression to mutiply then add integers\n",
    "(3*4)+5\n"
   ]
  },
  {
   "cell_type": "code",
   "execution_count": 12,
   "id": "7307e6d9-c45b-46fb-9746-b332add88d12",
   "metadata": {
    "tags": []
   },
   "outputs": [
    {
     "data": {
      "text/plain": [
       "3.3333333333333335"
      ]
     },
     "execution_count": 12,
     "metadata": {},
     "output_type": "execute_result"
    }
   ],
   "source": [
    "# This will convert 200 minutes to hours by dividing by 60\n",
    "(200/60)\n"
   ]
  },
  {
   "cell_type": "markdown",
   "id": "08ebd14f-8f4d-4cf7-bb2a-a08f5d8c2634",
   "metadata": {},
   "source": [
    "## Author\n",
    "Subhasish Ganguly"
   ]
  },
  {
   "cell_type": "code",
   "execution_count": null,
   "id": "8809703d-fa12-4844-a3ca-f9e31deb2483",
   "metadata": {},
   "outputs": [],
   "source": []
  }
 ],
 "metadata": {
  "kernelspec": {
   "display_name": "Python",
   "language": "python",
   "name": "conda-env-python-py"
  },
  "language_info": {
   "codemirror_mode": {
    "name": "ipython",
    "version": 3
   },
   "file_extension": ".py",
   "mimetype": "text/x-python",
   "name": "python",
   "nbconvert_exporter": "python",
   "pygments_lexer": "ipython3",
   "version": "3.7.12"
  }
 },
 "nbformat": 4,
 "nbformat_minor": 5
}
